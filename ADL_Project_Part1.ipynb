{
  "nbformat": 4,
  "nbformat_minor": 0,
  "metadata": {
    "colab": {
      "name": "ADL_Project_Part1.ipynb",
      "provenance": [],
      "collapsed_sections": []
    },
    "kernelspec": {
      "name": "python3",
      "display_name": "Python 3"
    },
    "accelerator": "TPU"
  },
  "cells": [
    {
      "cell_type": "code",
      "metadata": {
        "id": "g0ixQRDL6c_p",
        "colab_type": "code",
        "outputId": "1713c585-d00f-44de-8280-20dc075960e1",
        "colab": {
          "base_uri": "https://localhost:8080/",
          "height": 748
        }
      },
      "source": [
        "!apt-get install openslide-tools\n",
        "\n",
        "!pip install openslide-python"
      ],
      "execution_count": 1,
      "outputs": [
        {
          "output_type": "stream",
          "text": [
            "Reading package lists... Done\n",
            "Building dependency tree       \n",
            "Reading state information... Done\n",
            "The following package was automatically installed and is no longer required:\n",
            "  libnvidia-common-430\n",
            "Use 'apt autoremove' to remove it.\n",
            "The following additional packages will be installed:\n",
            "  libopenslide0\n",
            "Suggested packages:\n",
            "  libtiff-tools\n",
            "The following NEW packages will be installed:\n",
            "  libopenslide0 openslide-tools\n",
            "0 upgraded, 2 newly installed, 0 to remove and 7 not upgraded.\n",
            "Need to get 92.5 kB of archives.\n",
            "After this operation, 268 kB of additional disk space will be used.\n",
            "Get:1 http://archive.ubuntu.com/ubuntu bionic/universe amd64 libopenslide0 amd64 3.4.1+dfsg-2 [79.8 kB]\n",
            "Get:2 http://archive.ubuntu.com/ubuntu bionic/universe amd64 openslide-tools amd64 3.4.1+dfsg-2 [12.7 kB]\n",
            "Fetched 92.5 kB in 1s (174 kB/s)\n",
            "Selecting previously unselected package libopenslide0.\n",
            "(Reading database ... 135004 files and directories currently installed.)\n",
            "Preparing to unpack .../libopenslide0_3.4.1+dfsg-2_amd64.deb ...\n",
            "Unpacking libopenslide0 (3.4.1+dfsg-2) ...\n",
            "Selecting previously unselected package openslide-tools.\n",
            "Preparing to unpack .../openslide-tools_3.4.1+dfsg-2_amd64.deb ...\n",
            "Unpacking openslide-tools (3.4.1+dfsg-2) ...\n",
            "Setting up libopenslide0 (3.4.1+dfsg-2) ...\n",
            "Setting up openslide-tools (3.4.1+dfsg-2) ...\n",
            "Processing triggers for libc-bin (2.27-3ubuntu1) ...\n",
            "Processing triggers for man-db (2.8.3-2ubuntu0.1) ...\n",
            "Collecting openslide-python\n",
            "\u001b[?25l  Downloading https://files.pythonhosted.org/packages/26/5a/5b0adeabce81f018a9e4ffe9a419536064bc95c1b12194aff9b7e48f91f7/openslide-python-1.1.1.tar.gz (312kB)\n",
            "\u001b[K     |████████████████████████████████| 317kB 3.3MB/s \n",
            "\u001b[?25hRequirement already satisfied: Pillow in /usr/local/lib/python3.6/dist-packages (from openslide-python) (4.3.0)\n",
            "Requirement already satisfied: olefile in /usr/local/lib/python3.6/dist-packages (from Pillow->openslide-python) (0.46)\n",
            "Building wheels for collected packages: openslide-python\n",
            "  Building wheel for openslide-python (setup.py) ... \u001b[?25l\u001b[?25hdone\n",
            "  Created wheel for openslide-python: filename=openslide_python-1.1.1-cp36-cp36m-linux_x86_64.whl size=27374 sha256=5f81d059da08af30d05532dda0ec91aadbd1beccadb480fa3d9b3ce405ba8537\n",
            "  Stored in directory: /root/.cache/pip/wheels/56/44/7e/16c9fc72cfbf1bffe48676b6835843d21abcc56566e958e7d6\n",
            "Successfully built openslide-python\n",
            "Installing collected packages: openslide-python\n",
            "Successfully installed openslide-python-1.1.1\n"
          ],
          "name": "stdout"
        }
      ]
    },
    {
      "cell_type": "code",
      "metadata": {
        "id": "HInGoZEH6hiK",
        "colab_type": "code",
        "colab": {}
      },
      "source": [
        "%matplotlib inline\n",
        "import numpy as np\n",
        "import matplotlib.pyplot as plt\n",
        "from openslide import open_slide, __library_version__ as openslide_version"
      ],
      "execution_count": 0,
      "outputs": []
    },
    {
      "cell_type": "code",
      "metadata": {
        "id": "Q-sN3wNhRLzb",
        "colab_type": "code",
        "colab": {}
      },
      "source": [
        "import os\n",
        "from PIL import Image\n",
        "from skimage.color import rgb2gray\n",
        "from random import randint"
      ],
      "execution_count": 0,
      "outputs": []
    },
    {
      "cell_type": "code",
      "metadata": {
        "id": "A0GHfrZtRRXb",
        "colab_type": "code",
        "colab": {}
      },
      "source": [
        "from google.colab import drive"
      ],
      "execution_count": 0,
      "outputs": []
    },
    {
      "cell_type": "code",
      "metadata": {
        "id": "YwY3ht-Y9IIm",
        "colab_type": "code",
        "outputId": "ce03c285-4335-49fc-da6b-9c8957bc2153",
        "colab": {
          "base_uri": "https://localhost:8080/",
          "height": 124
        }
      },
      "source": [
        "drive.mount('/gdrive')\n",
        "drive_root = '/gdrive/My Drive/slides/'\n",
        "train_path = '/gdrive/My Drive/train_images/'"
      ],
      "execution_count": 5,
      "outputs": [
        {
          "output_type": "stream",
          "text": [
            "Go to this URL in a browser: https://accounts.google.com/o/oauth2/auth?client_id=947318989803-6bn6qk8qdgf4n4g3pfee6491hc0brc4i.apps.googleusercontent.com&redirect_uri=urn%3aietf%3awg%3aoauth%3a2.0%3aoob&response_type=code&scope=email%20https%3a%2f%2fwww.googleapis.com%2fauth%2fdocs.test%20https%3a%2f%2fwww.googleapis.com%2fauth%2fdrive%20https%3a%2f%2fwww.googleapis.com%2fauth%2fdrive.photos.readonly%20https%3a%2f%2fwww.googleapis.com%2fauth%2fpeopleapi.readonly\n",
            "\n",
            "Enter your authorization code:\n",
            "··········\n",
            "Mounted at /gdrive\n"
          ],
          "name": "stdout"
        }
      ]
    },
    {
      "cell_type": "code",
      "metadata": {
        "id": "Em72T9boRYkA",
        "colab_type": "code",
        "colab": {}
      },
      "source": [
        "def finding_tissue_by_pixel(image, intensity=0.7):\n",
        "    img_gray = rgb2gray(image)\n",
        "    a1 = image.shape[0]\n",
        "    a2 =  image.shape[1]\n",
        "\n",
        "    assert img_gray.shape == (a1,a2)\n",
        "    indices = np.where(img_gray <= intensity)\n",
        "    return zip(indices[0], indices[1])"
      ],
      "execution_count": 0,
      "outputs": []
    },
    {
      "cell_type": "code",
      "metadata": {
        "id": "qK_g0R3jSZmD",
        "colab_type": "code",
        "colab": {}
      },
      "source": [
        "def reading_slides(slide, x, y, level, width, height, as_float=False):\n",
        "    img = slide.read_region((x,y), level, (width, height))\n",
        "    img = img.convert('RGB') \n",
        "\n",
        "    if as_float:\n",
        "        img = np.asarray(img, dtype=np.float32)\n",
        "\n",
        "    else:\n",
        "        img = np.asarray(img)\n",
        "\n",
        " \n",
        "    return img"
      ],
      "execution_count": 0,
      "outputs": []
    },
    {
      "cell_type": "code",
      "metadata": {
        "id": "Bp5npruQTHND",
        "colab_type": "code",
        "colab": {}
      },
      "source": [
        "img_mask = []\n",
        "\n",
        "for filename in os.listdir(drive_root):\n",
        "  if filename[-8:] == 'mask.tif':\n",
        "\n",
        "    pair = (filename.split('_mask')[0] + '.tif', filename)\n",
        "    \n",
        "    img_mask.append(pair)"
      ],
      "execution_count": 0,
      "outputs": []
    },
    {
      "cell_type": "code",
      "metadata": {
        "id": "-rFxIyCEUN2t",
        "colab_type": "code",
        "colab": {}
      },
      "source": [
        "image_number = 0\n",
        "slide_number = 0\n",
        "tumor_images = 0"
      ],
      "execution_count": 0,
      "outputs": []
    },
    {
      "cell_type": "code",
      "metadata": {
        "id": "ZkMwSY3WT5Oi",
        "colab_type": "code",
        "colab": {}
      },
      "source": [
        "for image_file, mask_file in img_mask:\n",
        "\n",
        "  mask_path = os.path.join(drive_root, mask_file)\n",
        "  slide_path = os.path.join(drive_root, image_file)\n",
        "\n",
        "  slide = open_slide(slide_path)\n",
        "  t_mask = open_slide(mask_path)\n",
        "  w = slide.level_dimensions[4][0]\n",
        "  h = slide.level_dimensions[4][1]\n",
        "\n",
        "  slide_image = reading_slides(slide, x = 0, y = 0, level = 4, width = w, height = h)\n",
        "  mask_image = reading_slides(t_mask, x = 0, y = 0, level = 4, width = w, height = h)\n",
        "\n",
        "\n",
        "  x_range, y_range = np.array(slide.level_dimensions[4]) - 500\n",
        "\n",
        "  \n",
        "  while slide_number < 1000:\n",
        "    x, y = randint(0, x_range), randint(0, y_range)\n",
        "    new_img = slide_image[y:y+480, x:x+480]\n",
        "    new_mask = mask_image[y:y+480, x:x+480]\n",
        "\n",
        "    assert new_img.shape == (480,480,3)\n",
        "    assert new_mask.shape == (480,480,3)\n",
        "\n",
        "    tissue_p = list(finding_tissue_by_pixel(new_img))\n",
        "    deno = float(new_img.shape[0] * new_img.shape[0]) * 100\n",
        "    percent_tissue = len(tissue_p) / deno\n",
        "    \n",
        "    if percent_tissue > 60.00:\n",
        "      image_number += 1\n",
        "      slide_number += 1\n",
        "      plt.imsave(os.path.join(train_path,\"train_{}.png\".format(image_number)),new_img)\n",
        "      plt.imsave(os.path.join(train_path,\"train_mask_{}.png\".format(image_number)),new_mask)\n",
        "      print(\"Image {} has been stored\".format(image_number))"
      ],
      "execution_count": 0,
      "outputs": []
    },
    {
      "cell_type": "code",
      "metadata": {
        "id": "rKYOJgvgYAiB",
        "colab_type": "code",
        "colab": {}
      },
      "source": [
        "masks = [filename for filename in os.listdir(train_path) if \"mask\" in filename]\n",
        "assert len(masks) == 21000"
      ],
      "execution_count": 0,
      "outputs": []
    },
    {
      "cell_type": "code",
      "metadata": {
        "id": "6jqomVIpYhho",
        "colab_type": "code",
        "colab": {}
      },
      "source": [
        "for m in masks:\n",
        "\n",
        "  mask_image = np.array(Image.open(os.path.join(train_path, m)).convert('RGB'))\n",
        "  mask_image = mask_image[:,:,0]\n",
        "  \n",
        "  plt.imsave(os.path.join(train_path, m), mask_img)\n",
        "  if np.max(mask_img) != 0:\n",
        "    tumor_images += 1"
      ],
      "execution_count": 0,
      "outputs": []
    },
    {
      "cell_type": "code",
      "metadata": {
        "id": "_rgMX6jLZLi2",
        "colab_type": "code",
        "colab": {}
      },
      "source": [
        "print(\"Images with cancer percentage: {}%\".format(round(cancer_imgs/210),2))"
      ],
      "execution_count": 0,
      "outputs": []
    },
    {
      "cell_type": "code",
      "metadata": {
        "id": "Gd1F2DBOZUsC",
        "colab_type": "code",
        "colab": {}
      },
      "source": [
        "files = os.listdir(train_path)\n",
        "pairs = []"
      ],
      "execution_count": 0,
      "outputs": []
    },
    {
      "cell_type": "code",
      "metadata": {
        "id": "dtVJ6YjXZ2jo",
        "colab_type": "code",
        "colab": {}
      },
      "source": [
        "for filename in files:\n",
        "  if filename[6:10] == 'mask':\n",
        "    img_file = filename.split(\"mask_\")[0] + filename.split(\"mask_\")[1]\n",
        "    pairs.append((os.path.join(train_path,img_file),os.path.join(train_path,filename)))"
      ],
      "execution_count": 0,
      "outputs": []
    },
    {
      "cell_type": "code",
      "metadata": {
        "id": "8fm9NO-kZ7at",
        "colab_type": "code",
        "colab": {}
      },
      "source": [
        "img_file, mask_img_file = pairs[0]\n",
        "img = Image.open(img_file).convert('RGB')\n",
        "mask_img = Image.open(mask_img_file).convert('L')"
      ],
      "execution_count": 0,
      "outputs": []
    },
    {
      "cell_type": "code",
      "metadata": {
        "id": "CsygQ8oXnqpd",
        "colab_type": "code",
        "colab": {}
      },
      "source": [
        "plt.figure(figsize=(5,5), dpi=100)\n",
        "plt.imshow(img)\n",
        "plt.imshow(mask_img, cmap='green', alpha=0.3)\n",
        "plt.show()"
      ],
      "execution_count": 0,
      "outputs": []
    },
    {
      "cell_type": "code",
      "metadata": {
        "id": "NynG-7braAck",
        "colab_type": "code",
        "colab": {}
      },
      "source": [
        "img_file, mask_img_file = os.path.join(train_path, 'train_6199.png'), os.path.join(train_path, 'train_mask_6199.png')\n",
        "img = Image.open(img_file).convert('RGB')\n",
        "mask_img = Image.open(mask_img_file).convert('L')\n",
        "\n",
        "plt.figure(figsize=(5,5), dpi=100)\n",
        "plt.imshow(img)\n",
        "plt.imshow(mask_img, cmap='blue', alpha=0.6)\n",
        "plt.show()"
      ],
      "execution_count": 0,
      "outputs": []
    },
    {
      "cell_type": "code",
      "metadata": {
        "id": "LPsaFE-1aGvs",
        "colab_type": "code",
        "colab": {}
      },
      "source": [
        "img_file, mask_img_file = os.path.join(train_path, 'train_1698.png'), os.path.join(train_path, 'train_mask_1698.png')\n",
        "img = Image.open(img_file).convert('RGB')\n",
        "mask_img = Image.open(mask_img_file).convert('L')\n",
        "\n",
        "plt.figure(figsize=(5,5), dpi=100)\n",
        "plt.imshow(img)\n",
        "plt.imshow(mask_img, cmap='jet', alpha=0.5)\n",
        "plt.show()"
      ],
      "execution_count": 0,
      "outputs": []
    }
  ]
}